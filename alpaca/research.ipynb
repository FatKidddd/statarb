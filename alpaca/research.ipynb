{
 "cells": [
  {
   "cell_type": "code",
   "execution_count": 4,
   "id": "4163518f",
   "metadata": {},
   "outputs": [
    {
     "data": {
      "text/plain": [
       "'Is resolution and start and end date as pulled data agreeable?'"
      ]
     },
     "metadata": {},
     "output_type": "display_data"
    },
    {
     "data": {
      "text/plain": [
       "'Wanted 0 tickers but got 1193 tickers'"
      ]
     },
     "metadata": {},
     "output_type": "display_data"
    },
    {
     "data": {
      "text/html": [
       "<div>\n",
       "<style scoped>\n",
       "    .dataframe tbody tr th:only-of-type {\n",
       "        vertical-align: middle;\n",
       "    }\n",
       "\n",
       "    .dataframe tbody tr th {\n",
       "        vertical-align: top;\n",
       "    }\n",
       "\n",
       "    .dataframe thead th {\n",
       "        text-align: right;\n",
       "    }\n",
       "</style>\n",
       "<table border=\"1\" class=\"dataframe\">\n",
       "  <thead>\n",
       "    <tr style=\"text-align: right;\">\n",
       "      <th></th>\n",
       "      <th>AAA</th>\n",
       "      <th>AACG</th>\n",
       "      <th>AAME</th>\n",
       "      <th>AAN</th>\n",
       "      <th>AAPB</th>\n",
       "      <th>AAPL</th>\n",
       "      <th>AATC</th>\n",
       "      <th>AAU</th>\n",
       "      <th>ABBNY</th>\n",
       "      <th>ABEO</th>\n",
       "      <th>...</th>\n",
       "      <th>XTNT</th>\n",
       "      <th>XTWY</th>\n",
       "      <th>YELLQ</th>\n",
       "      <th>YOTAR</th>\n",
       "      <th>YPF</th>\n",
       "      <th>YS</th>\n",
       "      <th>YTRA</th>\n",
       "      <th>YVRLF</th>\n",
       "      <th>ZBRA</th>\n",
       "      <th>ZYME</th>\n",
       "    </tr>\n",
       "  </thead>\n",
       "  <tbody>\n",
       "    <tr>\n",
       "      <th>2016-01-04</th>\n",
       "      <td>NaN</td>\n",
       "      <td>1.4590</td>\n",
       "      <td>4.576</td>\n",
       "      <td>80.61</td>\n",
       "      <td>NaN</td>\n",
       "      <td>23.94</td>\n",
       "      <td>2.483</td>\n",
       "      <td>0.6603</td>\n",
       "      <td>13.52</td>\n",
       "      <td>85.50</td>\n",
       "      <td>...</td>\n",
       "      <td>32.5200</td>\n",
       "      <td>NaN</td>\n",
       "      <td>14.00</td>\n",
       "      <td>NaN</td>\n",
       "      <td>15.42</td>\n",
       "      <td>NaN</td>\n",
       "      <td>NaN</td>\n",
       "      <td>11.1200</td>\n",
       "      <td>66.49</td>\n",
       "      <td>NaN</td>\n",
       "    </tr>\n",
       "    <tr>\n",
       "      <th>2016-01-05</th>\n",
       "      <td>NaN</td>\n",
       "      <td>1.4960</td>\n",
       "      <td>4.321</td>\n",
       "      <td>82.17</td>\n",
       "      <td>NaN</td>\n",
       "      <td>23.34</td>\n",
       "      <td>2.440</td>\n",
       "      <td>0.6500</td>\n",
       "      <td>13.28</td>\n",
       "      <td>87.50</td>\n",
       "      <td>...</td>\n",
       "      <td>33.0000</td>\n",
       "      <td>NaN</td>\n",
       "      <td>14.23</td>\n",
       "      <td>NaN</td>\n",
       "      <td>15.35</td>\n",
       "      <td>NaN</td>\n",
       "      <td>NaN</td>\n",
       "      <td>11.1200</td>\n",
       "      <td>64.82</td>\n",
       "      <td>NaN</td>\n",
       "    </tr>\n",
       "    <tr>\n",
       "      <th>2016-01-06</th>\n",
       "      <td>NaN</td>\n",
       "      <td>1.6470</td>\n",
       "      <td>4.444</td>\n",
       "      <td>75.95</td>\n",
       "      <td>NaN</td>\n",
       "      <td>22.88</td>\n",
       "      <td>2.396</td>\n",
       "      <td>0.6300</td>\n",
       "      <td>13.06</td>\n",
       "      <td>80.75</td>\n",
       "      <td>...</td>\n",
       "      <td>33.4800</td>\n",
       "      <td>NaN</td>\n",
       "      <td>13.41</td>\n",
       "      <td>NaN</td>\n",
       "      <td>14.62</td>\n",
       "      <td>NaN</td>\n",
       "      <td>NaN</td>\n",
       "      <td>11.0000</td>\n",
       "      <td>62.23</td>\n",
       "      <td>NaN</td>\n",
       "    </tr>\n",
       "    <tr>\n",
       "      <th>2016-01-07</th>\n",
       "      <td>NaN</td>\n",
       "      <td>1.4550</td>\n",
       "      <td>4.330</td>\n",
       "      <td>73.46</td>\n",
       "      <td>NaN</td>\n",
       "      <td>21.92</td>\n",
       "      <td>2.191</td>\n",
       "      <td>0.6430</td>\n",
       "      <td>12.81</td>\n",
       "      <td>73.25</td>\n",
       "      <td>...</td>\n",
       "      <td>32.6400</td>\n",
       "      <td>NaN</td>\n",
       "      <td>12.45</td>\n",
       "      <td>NaN</td>\n",
       "      <td>14.39</td>\n",
       "      <td>NaN</td>\n",
       "      <td>NaN</td>\n",
       "      <td>11.3200</td>\n",
       "      <td>59.41</td>\n",
       "      <td>NaN</td>\n",
       "    </tr>\n",
       "    <tr>\n",
       "      <th>2016-01-08</th>\n",
       "      <td>NaN</td>\n",
       "      <td>1.3520</td>\n",
       "      <td>4.217</td>\n",
       "      <td>72.26</td>\n",
       "      <td>NaN</td>\n",
       "      <td>22.03</td>\n",
       "      <td>2.150</td>\n",
       "      <td>0.6201</td>\n",
       "      <td>12.59</td>\n",
       "      <td>73.00</td>\n",
       "      <td>...</td>\n",
       "      <td>33.6000</td>\n",
       "      <td>NaN</td>\n",
       "      <td>12.19</td>\n",
       "      <td>NaN</td>\n",
       "      <td>14.30</td>\n",
       "      <td>NaN</td>\n",
       "      <td>NaN</td>\n",
       "      <td>10.4000</td>\n",
       "      <td>59.25</td>\n",
       "      <td>NaN</td>\n",
       "    </tr>\n",
       "    <tr>\n",
       "      <th>...</th>\n",
       "      <td>...</td>\n",
       "      <td>...</td>\n",
       "      <td>...</td>\n",
       "      <td>...</td>\n",
       "      <td>...</td>\n",
       "      <td>...</td>\n",
       "      <td>...</td>\n",
       "      <td>...</td>\n",
       "      <td>...</td>\n",
       "      <td>...</td>\n",
       "      <td>...</td>\n",
       "      <td>...</td>\n",
       "      <td>...</td>\n",
       "      <td>...</td>\n",
       "      <td>...</td>\n",
       "      <td>...</td>\n",
       "      <td>...</td>\n",
       "      <td>...</td>\n",
       "      <td>...</td>\n",
       "      <td>...</td>\n",
       "      <td>...</td>\n",
       "    </tr>\n",
       "    <tr>\n",
       "      <th>2022-12-23</th>\n",
       "      <td>22.75</td>\n",
       "      <td>1.4400</td>\n",
       "      <td>2.370</td>\n",
       "      <td>10.75</td>\n",
       "      <td>15.87</td>\n",
       "      <td>130.94</td>\n",
       "      <td>3.195</td>\n",
       "      <td>0.2450</td>\n",
       "      <td>29.12</td>\n",
       "      <td>2.51</td>\n",
       "      <td>...</td>\n",
       "      <td>0.6563</td>\n",
       "      <td>44.87</td>\n",
       "      <td>2.66</td>\n",
       "      <td>0.110000</td>\n",
       "      <td>9.09</td>\n",
       "      <td>10.020</td>\n",
       "      <td>2.39</td>\n",
       "      <td>0.8352</td>\n",
       "      <td>248.22</td>\n",
       "      <td>8.04</td>\n",
       "    </tr>\n",
       "    <tr>\n",
       "      <th>2022-12-27</th>\n",
       "      <td>22.74</td>\n",
       "      <td>1.3600</td>\n",
       "      <td>2.345</td>\n",
       "      <td>10.73</td>\n",
       "      <td>15.51</td>\n",
       "      <td>129.12</td>\n",
       "      <td>3.245</td>\n",
       "      <td>0.2403</td>\n",
       "      <td>29.45</td>\n",
       "      <td>2.41</td>\n",
       "      <td>...</td>\n",
       "      <td>0.6570</td>\n",
       "      <td>43.89</td>\n",
       "      <td>2.56</td>\n",
       "      <td>0.095200</td>\n",
       "      <td>8.84</td>\n",
       "      <td>10.020</td>\n",
       "      <td>2.37</td>\n",
       "      <td>0.7600</td>\n",
       "      <td>251.00</td>\n",
       "      <td>7.49</td>\n",
       "    </tr>\n",
       "    <tr>\n",
       "      <th>2022-12-28</th>\n",
       "      <td>22.76</td>\n",
       "      <td>1.3069</td>\n",
       "      <td>2.282</td>\n",
       "      <td>10.71</td>\n",
       "      <td>14.64</td>\n",
       "      <td>125.16</td>\n",
       "      <td>3.169</td>\n",
       "      <td>0.2355</td>\n",
       "      <td>29.09</td>\n",
       "      <td>2.40</td>\n",
       "      <td>...</td>\n",
       "      <td>0.6300</td>\n",
       "      <td>43.89</td>\n",
       "      <td>2.46</td>\n",
       "      <td>0.091500</td>\n",
       "      <td>9.09</td>\n",
       "      <td>10.020</td>\n",
       "      <td>2.50</td>\n",
       "      <td>0.7400</td>\n",
       "      <td>246.84</td>\n",
       "      <td>7.49</td>\n",
       "    </tr>\n",
       "    <tr>\n",
       "      <th>2022-12-29</th>\n",
       "      <td>22.79</td>\n",
       "      <td>1.3500</td>\n",
       "      <td>2.135</td>\n",
       "      <td>11.16</td>\n",
       "      <td>15.39</td>\n",
       "      <td>128.71</td>\n",
       "      <td>3.052</td>\n",
       "      <td>0.2400</td>\n",
       "      <td>29.68</td>\n",
       "      <td>2.82</td>\n",
       "      <td>...</td>\n",
       "      <td>0.6600</td>\n",
       "      <td>44.11</td>\n",
       "      <td>2.61</td>\n",
       "      <td>0.090224</td>\n",
       "      <td>9.05</td>\n",
       "      <td>10.030</td>\n",
       "      <td>2.44</td>\n",
       "      <td>0.7576</td>\n",
       "      <td>257.53</td>\n",
       "      <td>7.81</td>\n",
       "    </tr>\n",
       "    <tr>\n",
       "      <th>2022-12-30</th>\n",
       "      <td>22.79</td>\n",
       "      <td>1.2733</td>\n",
       "      <td>2.293</td>\n",
       "      <td>11.30</td>\n",
       "      <td>15.38</td>\n",
       "      <td>129.02</td>\n",
       "      <td>3.052</td>\n",
       "      <td>0.2443</td>\n",
       "      <td>29.28</td>\n",
       "      <td>3.08</td>\n",
       "      <td>...</td>\n",
       "      <td>0.6600</td>\n",
       "      <td>43.63</td>\n",
       "      <td>2.51</td>\n",
       "      <td>0.162400</td>\n",
       "      <td>9.19</td>\n",
       "      <td>10.025</td>\n",
       "      <td>2.41</td>\n",
       "      <td>0.7040</td>\n",
       "      <td>256.41</td>\n",
       "      <td>7.86</td>\n",
       "    </tr>\n",
       "  </tbody>\n",
       "</table>\n",
       "<p>1762 rows × 1193 columns</p>\n",
       "</div>"
      ],
      "text/plain": [
       "              AAA    AACG   AAME    AAN   AAPB    AAPL   AATC     AAU  ABBNY  \\\n",
       "2016-01-04    NaN  1.4590  4.576  80.61    NaN   23.94  2.483  0.6603  13.52   \n",
       "2016-01-05    NaN  1.4960  4.321  82.17    NaN   23.34  2.440  0.6500  13.28   \n",
       "2016-01-06    NaN  1.6470  4.444  75.95    NaN   22.88  2.396  0.6300  13.06   \n",
       "2016-01-07    NaN  1.4550  4.330  73.46    NaN   21.92  2.191  0.6430  12.81   \n",
       "2016-01-08    NaN  1.3520  4.217  72.26    NaN   22.03  2.150  0.6201  12.59   \n",
       "...           ...     ...    ...    ...    ...     ...    ...     ...    ...   \n",
       "2022-12-23  22.75  1.4400  2.370  10.75  15.87  130.94  3.195  0.2450  29.12   \n",
       "2022-12-27  22.74  1.3600  2.345  10.73  15.51  129.12  3.245  0.2403  29.45   \n",
       "2022-12-28  22.76  1.3069  2.282  10.71  14.64  125.16  3.169  0.2355  29.09   \n",
       "2022-12-29  22.79  1.3500  2.135  11.16  15.39  128.71  3.052  0.2400  29.68   \n",
       "2022-12-30  22.79  1.2733  2.293  11.30  15.38  129.02  3.052  0.2443  29.28   \n",
       "\n",
       "             ABEO  ...     XTNT   XTWY  YELLQ     YOTAR    YPF      YS  YTRA  \\\n",
       "2016-01-04  85.50  ...  32.5200    NaN  14.00       NaN  15.42     NaN   NaN   \n",
       "2016-01-05  87.50  ...  33.0000    NaN  14.23       NaN  15.35     NaN   NaN   \n",
       "2016-01-06  80.75  ...  33.4800    NaN  13.41       NaN  14.62     NaN   NaN   \n",
       "2016-01-07  73.25  ...  32.6400    NaN  12.45       NaN  14.39     NaN   NaN   \n",
       "2016-01-08  73.00  ...  33.6000    NaN  12.19       NaN  14.30     NaN   NaN   \n",
       "...           ...  ...      ...    ...    ...       ...    ...     ...   ...   \n",
       "2022-12-23   2.51  ...   0.6563  44.87   2.66  0.110000   9.09  10.020  2.39   \n",
       "2022-12-27   2.41  ...   0.6570  43.89   2.56  0.095200   8.84  10.020  2.37   \n",
       "2022-12-28   2.40  ...   0.6300  43.89   2.46  0.091500   9.09  10.020  2.50   \n",
       "2022-12-29   2.82  ...   0.6600  44.11   2.61  0.090224   9.05  10.030  2.44   \n",
       "2022-12-30   3.08  ...   0.6600  43.63   2.51  0.162400   9.19  10.025  2.41   \n",
       "\n",
       "              YVRLF    ZBRA  ZYME  \n",
       "2016-01-04  11.1200   66.49   NaN  \n",
       "2016-01-05  11.1200   64.82   NaN  \n",
       "2016-01-06  11.0000   62.23   NaN  \n",
       "2016-01-07  11.3200   59.41   NaN  \n",
       "2016-01-08  10.4000   59.25   NaN  \n",
       "...             ...     ...   ...  \n",
       "2022-12-23   0.8352  248.22  8.04  \n",
       "2022-12-27   0.7600  251.00  7.49  \n",
       "2022-12-28   0.7400  246.84  7.49  \n",
       "2022-12-29   0.7576  257.53  7.81  \n",
       "2022-12-30   0.7040  256.41  7.86  \n",
       "\n",
       "[1762 rows x 1193 columns]"
      ]
     },
     "metadata": {},
     "output_type": "display_data"
    }
   ],
   "source": [
    "%load_ext autoreload\n",
    "%autoreload 2\n",
    "\n",
    "import numpy as np\n",
    "import pandas as pd\n",
    "from datapipeline import DataPipeline\n",
    "from clusterpipeline import ClusterPipeline\n",
    "from portfoliopipeline import PortfolioPipeline\n",
    "from backtestpipeline import BacktestPipeline\n",
    "\n",
    "\n",
    "# current idea now is cluster --> use johansen test to test for cointegration --> minimise portmanteau stat --> parametric threshold\n",
    "# or cluster --> engle granger test --> pairs with kalman filter --> parametric threshold\n",
    "\n",
    "# maybe use daily data to train\n",
    "\n",
    "data_pipe = DataPipeline([], (2016, 1, 1), (2020, 1, 1), (2022, 1, 1), (2022, 12, 31))\n",
    "cluster_pipe = ClusterPipeline() \n",
    "portfolio_pipe = PortfolioPipeline()\n",
    "backtest_pipe = BacktestPipeline()\n"
   ]
  },
  {
   "cell_type": "code",
   "execution_count": 5,
   "id": "93e4cf34",
   "metadata": {},
   "outputs": [
    {
     "data": {
      "text/plain": [
       "'##### Filtering #####'"
      ]
     },
     "metadata": {},
     "output_type": "display_data"
    },
    {
     "data": {
      "text/plain": [
       "'##### Coordinating #####'"
      ]
     },
     "metadata": {},
     "output_type": "display_data"
    },
    {
     "data": {
      "text/plain": [
       "(1006, 595)"
      ]
     },
     "metadata": {},
     "output_type": "display_data"
    },
    {
     "data": {
      "text/plain": [
       "'595 to 487 columns - 108 NA columns dropped'"
      ]
     },
     "metadata": {},
     "output_type": "display_data"
    },
    {
     "data": {
      "text/plain": [
       "\"Dropped ['AGNCN', 'AIO', 'APRN', 'APTX', 'AQNA', 'AQNB', 'ASAP', 'ASPU', 'ATMP', 'ATNXQ', 'AXNX', 'AZREF', 'BAK', 'BBCA', 'BBU', 'BBUS', 'BCI', 'BCML', 'BCYC', 'BILI', 'BITI', 'BOXL', 'BRY', 'BSGM', 'BSJO', 'CANF', 'CCIF', 'CDLX', 'CEPU', 'CGBD', 'CGC', 'CSML', 'CWEN.A', 'CYCN', 'DAC', 'DALI', 'DALT', 'DAVA', 'DBX', 'DZSI', 'EEMO', 'FFHG', 'FIVG', 'FLBR', 'FLCO', 'FLQL', 'FPH', 'FREQ', 'FTS', 'FTV', 'HBB', 'HONE', 'HOOK', 'IBML', 'ICHR', 'ICLK', 'IFMK', 'IGEB', 'IHF', 'IHIT', 'IHRT', 'IRBO', 'IUS', 'JBGS', 'JMIA', 'JMST', 'JPT', 'KURE', 'LGF.B', 'LHC', 'LIN', 'LMPX', 'LOMA', 'LOVLY', 'LX', 'MDB', 'MEDP', 'METC', 'MEXX', 'MFEM', 'MFUS', 'MGTX', 'MGY', 'MHLA', 'MILN', 'MIRM', 'MIST', 'MNSB', 'MOR', 'MORE', 'MPV', 'MRAM', 'MRBK', 'MRKR', 'MVST', 'MYO', 'NHIQ', 'NMTRQ', 'NOCT', 'NOVNQ', 'NUSC', 'PACK', 'PAGS', 'PARAA', 'PAUG', 'PAVE', 'PDLB', 'PGEN', 'PUTW', 'PWS', 'RDIV', 'RWK', 'RWL', 'RYTM', 'SACC', 'SAFE', 'SBT', 'SNSR', 'SONO', 'SPAQ', 'SUPV', 'SY', 'TAIL', 'TBC', 'TRVG', 'TSL', 'TXG', 'VIASP', 'VRAYQ', 'VYMI', 'YTRA', 'ZYME'] columns\""
      ]
     },
     "metadata": {},
     "output_type": "display_data"
    },
    {
     "data": {
      "text/plain": [
       "'Df new start date 2016-10-14, removed first 198 or 19.68% rows'"
      ]
     },
     "metadata": {},
     "output_type": "display_data"
    },
    {
     "data": {
      "text/plain": [
       "'0 original tickers to 487 tickers'"
      ]
     },
     "metadata": {},
     "output_type": "display_data"
    },
    {
     "data": {
      "text/plain": [
       "'808 + 505 + 251'"
      ]
     },
     "metadata": {},
     "output_type": "display_data"
    }
   ],
   "source": [
    "training_df, validation_df, testing_df, training_and_validation_df = data_pipe.preprocess_and_split_data()"
   ]
  },
  {
   "cell_type": "code",
   "execution_count": 6,
   "id": "88c553b4",
   "metadata": {},
   "outputs": [
    {
     "data": {
      "text/plain": [
       "'##### Finding clusters now #####'"
      ]
     },
     "metadata": {},
     "output_type": "display_data"
    },
    {
     "data": {
      "text/plain": [
       "'487 to 487 columns - 0 NA columns dropped'"
      ]
     },
     "metadata": {},
     "output_type": "display_data"
    },
    {
     "data": {
      "text/plain": [
       "'Dropped [] columns'"
      ]
     },
     "metadata": {},
     "output_type": "display_data"
    },
    {
     "data": {
      "text/plain": [
       "'487 to 487 columns - 0 NA columns dropped'"
      ]
     },
     "metadata": {},
     "output_type": "display_data"
    },
    {
     "data": {
      "text/plain": [
       "'Dropped [] columns'"
      ]
     },
     "metadata": {},
     "output_type": "display_data"
    },
    {
     "data": {
      "text/plain": [
       "'29.856680123208587% of variance - 15 components'"
      ]
     },
     "metadata": {},
     "output_type": "display_data"
    },
    {
     "data": {
      "image/png": "[encoded data removed]",
      "text/plain": [
       "<Figure size 500x300 with 1 Axes>"
      ]
     },
     "metadata": {},
     "output_type": "display_data"
    },
    {
     "data": {
      "image/png": "[encoded data removed]",
      "text/plain": [
       "<Figure size 1200x300 with 2 Axes>"
      ]
     },
     "metadata": {},
     "output_type": "display_data"
    }
   ],
   "source": [
    "display('##### Finding clusters now #####')\n",
    "clusters = [training_df.columns] if training_df.shape[1] < 15 else cluster_pipe.find_clusters(training_df)"
   ]
  },
  {
   "cell_type": "code",
   "execution_count": 9,
   "id": "8f2474b4",
   "metadata": {},
   "outputs": [
    {
     "data": {
      "text/plain": [
       "['GFF', 'KELYA', 'KFRC']"
      ]
     },
     "metadata": {},
     "output_type": "display_data"
    },
    {
     "data": {
      "text/plain": [
       "['BLFS', 'IMMR', 'LCTX', 'VRAYQ']"
      ]
     },
     "metadata": {},
     "output_type": "display_data"
    },
    {
     "data": {
      "text/plain": [
       "['CALA', 'CRIS', 'MGNX', 'MRTX']"
      ]
     },
     "metadata": {},
     "output_type": "display_data"
    },
    {
     "data": {
      "text/plain": [
       "['ASAP', 'KTCC', 'LIVE', 'NC', 'NHIQ']"
      ]
     },
     "metadata": {},
     "output_type": "display_data"
    },
    {
     "data": {
      "text/plain": [
       "['LRCX', 'MKSI', 'TXN', 'WDC']"
      ]
     },
     "metadata": {},
     "output_type": "display_data"
    },
    {
     "data": {
      "text/plain": [
       "['AGM', 'FRBK', 'WHG']"
      ]
     },
     "metadata": {},
     "output_type": "display_data"
    },
    {
     "data": {
      "text/plain": [
       "['BAH', 'MSI', 'PLNT']"
      ]
     },
     "metadata": {},
     "output_type": "display_data"
    },
    {
     "data": {
      "text/plain": [
       "['CMCSA', 'IPG', 'PARA']"
      ]
     },
     "metadata": {},
     "output_type": "display_data"
    },
    {
     "data": {
      "text/plain": [
       "['ALGT', 'CCL', 'DAL', 'SAVE', 'UAL']"
      ]
     },
     "metadata": {},
     "output_type": "display_data"
    },
    {
     "data": {
      "text/plain": [
       "['ATHM', 'CAF', 'MLCO', 'MOMO', 'WB']"
      ]
     },
     "metadata": {},
     "output_type": "display_data"
    },
    {
     "data": {
      "text/plain": [
       "['FTV', 'GGG', 'MMM', 'ROP']"
      ]
     },
     "metadata": {},
     "output_type": "display_data"
    },
    {
     "data": {
      "text/plain": [
       "['EZU', 'GF', 'IEFA', 'IEUR', 'IVLU', 'MOTI', 'SCHC', 'VEA', 'VSS', 'VYMI']"
      ]
     },
     "metadata": {},
     "output_type": "display_data"
    },
    {
     "data": {
      "text/plain": [
       "['ICVT', 'IXN', 'IYW', 'MGK', 'ONEQ']"
      ]
     },
     "metadata": {},
     "output_type": "display_data"
    },
    {
     "data": {
      "text/plain": [
       "['CSM', 'IYY', 'MGC', 'PUTW', 'SCHX']"
      ]
     },
     "metadata": {},
     "output_type": "display_data"
    },
    {
     "data": {
      "text/plain": [
       "['CEV',\n",
       " 'CXH',\n",
       " 'DTF',\n",
       " 'IQI',\n",
       " 'KSM',\n",
       " 'MFM',\n",
       " 'MHD',\n",
       " 'MHF',\n",
       " 'MHI',\n",
       " 'MHN',\n",
       " 'MIY',\n",
       " 'MNP',\n",
       " 'MPA',\n",
       " 'MQY',\n",
       " 'MVT',\n",
       " 'MYN',\n",
       " 'NAN',\n",
       " 'NAZ',\n",
       " 'NBH',\n",
       " 'NCA',\n",
       " 'NUW']"
      ]
     },
     "metadata": {},
     "output_type": "display_data"
    },
    {
     "data": {
      "text/plain": [
       "['AIA', 'EEMO', 'EMF', 'FNDE', 'IDX', 'VWO']"
      ]
     },
     "metadata": {},
     "output_type": "display_data"
    },
    {
     "data": {
      "text/plain": [
       "['BHLB', 'CTBI', 'HOMB', 'SYBT']"
      ]
     },
     "metadata": {},
     "output_type": "display_data"
    },
    {
     "data": {
      "text/plain": [
       "['CFG', 'MTB', 'WFC']"
      ]
     },
     "metadata": {},
     "output_type": "display_data"
    },
    {
     "data": {
      "text/plain": [
       "['ACN', 'PAYX', 'SPGI']"
      ]
     },
     "metadata": {},
     "output_type": "display_data"
    },
    {
     "data": {
      "text/plain": [
       "['APA', 'CHK', 'HAL', 'MTDR', 'RRC']"
      ]
     },
     "metadata": {},
     "output_type": "display_data"
    },
    {
     "data": {
      "text/plain": [
       "['BP', 'ERX', 'FILL', 'IGE']"
      ]
     },
     "metadata": {},
     "output_type": "display_data"
    },
    {
     "data": {
      "text/plain": [
       "['BCS', 'BSIG', 'DB', 'IVZ', 'MFC']"
      ]
     },
     "metadata": {},
     "output_type": "display_data"
    },
    {
     "data": {
      "text/plain": [
       "['AKO.B', 'BCH', 'BRZU', 'CEW', 'CX', 'EWW', 'FBZ', 'MXF', 'PAC', 'TX', 'VLRS']"
      ]
     },
     "metadata": {},
     "output_type": "display_data"
    },
    {
     "data": {
      "text/plain": [
       "['CORN', 'DBA', 'SUPV', 'WEAT']"
      ]
     },
     "metadata": {},
     "output_type": "display_data"
    },
    {
     "data": {
      "text/plain": [
       "['AGG', 'AGGY', 'BIV', 'CMBS', 'VCIT']"
      ]
     },
     "metadata": {},
     "output_type": "display_data"
    },
    {
     "data": {
      "text/plain": [
       "['ANGL', 'BSJN', 'BSJO']"
      ]
     },
     "metadata": {},
     "output_type": "display_data"
    },
    {
     "data": {
      "text/plain": [
       "['CL', 'MKC', 'PG']"
      ]
     },
     "metadata": {},
     "output_type": "display_data"
    },
    {
     "data": {
      "text/plain": [
       "['EXR', 'FRT', 'GNL', 'IYR', 'MPW', 'NHI', 'NSA', 'OLP', 'RWO', 'RWR']"
      ]
     },
     "metadata": {},
     "output_type": "display_data"
    },
    {
     "data": {
      "text/plain": [
       "['DEO', 'FTS', 'SBAC']"
      ]
     },
     "metadata": {},
     "output_type": "display_data"
    },
    {
     "data": {
      "text/plain": [
       "['D', 'NI', 'PEG', 'SO']"
      ]
     },
     "metadata": {},
     "output_type": "display_data"
    },
    {
     "data": {
      "text/plain": [
       "['ALE', 'IDA', 'MGEE', 'SWX']"
      ]
     },
     "metadata": {},
     "output_type": "display_data"
    },
    {
     "data": {
      "text/plain": [
       "['ARR', 'MFA', 'MORT', 'PMT', 'RWT']"
      ]
     },
     "metadata": {},
     "output_type": "display_data"
    },
    {
     "data": {
      "text/plain": [
       "['CEF', 'GDX', 'MUX', 'PPLT', 'SA']"
      ]
     },
     "metadata": {},
     "output_type": "display_data"
    },
    {
     "data": {
      "text/plain": [
       "['DOG', 'FAZ', 'RWM', 'TWM']"
      ]
     },
     "metadata": {},
     "output_type": "display_data"
    }
   ],
   "source": [
    "for cluster in clusters:\n",
    "  display(cluster)"
   ]
  },
  {
   "cell_type": "code",
   "execution_count": 7,
   "id": "b3eb308e",
   "metadata": {},
   "outputs": [
    {
     "data": {
      "text/plain": [
       "'Testing 3 pairs in cluster 0'"
      ]
     },
     "metadata": {},
     "output_type": "display_data"
    },
    {
     "ename": "AttributeError",
     "evalue": "'PortfolioPipeline' object has no attribute 'engle_granger_two_step_cointegration_test'",
     "output_type": "error",
     "traceback": [
      "\u001b[1;31m---------------------------------------------------------------------------\u001b[0m",
      "\u001b[1;31mAttributeError\u001b[0m                            Traceback (most recent call last)",
      "\u001b[1;32mc:\\Users\\justi\\Desktop\\Coding\\trading\\alpaca\\research.ipynb Cell 4\u001b[0m line \u001b[0;36m2\n\u001b[0;32m      <a href='vscode-notebook-cell:/c%3A/Users/justi/Desktop/Coding/trading/alpaca/research.ipynb#W3sZmlsZQ%3D%3D?line=0'>1</a>\u001b[0m \u001b[39m# get pairs for validation test\u001b[39;00m\n\u001b[1;32m----> <a href='vscode-notebook-cell:/c%3A/Users/justi/Desktop/Coding/trading/alpaca/research.ipynb#W3sZmlsZQ%3D%3D?line=1'>2</a>\u001b[0m validation_pairs \u001b[39m=\u001b[39m portfolio_pipe\u001b[39m.\u001b[39;49mfind_pairs_from_clusters(training_df, clusters)\n\u001b[0;32m      <a href='vscode-notebook-cell:/c%3A/Users/justi/Desktop/Coding/trading/alpaca/research.ipynb#W3sZmlsZQ%3D%3D?line=2'>3</a>\u001b[0m \u001b[39m# if validation_pairs is None or validation_pairs.shape[0] == 0:\u001b[39;00m\n\u001b[0;32m      <a href='vscode-notebook-cell:/c%3A/Users/justi/Desktop/Coding/trading/alpaca/research.ipynb#W3sZmlsZQ%3D%3D?line=3'>4</a>\u001b[0m \u001b[39m# \tdisplay(f'No validated pairs')\u001b[39;00m\n\u001b[0;32m      <a href='vscode-notebook-cell:/c%3A/Users/justi/Desktop/Coding/trading/alpaca/research.ipynb#W3sZmlsZQ%3D%3D?line=4'>5</a>\u001b[0m \u001b[39m# \treturn\u001b[39;00m\n\u001b[0;32m      <a href='vscode-notebook-cell:/c%3A/Users/justi/Desktop/Coding/trading/alpaca/research.ipynb#W3sZmlsZQ%3D%3D?line=6'>7</a>\u001b[0m initial_capital \u001b[39m=\u001b[39m \u001b[39m5000\u001b[39m\n",
      "File \u001b[1;32mc:\\Users\\justi\\Desktop\\Coding\\trading\\alpaca\\portfoliopipeline.py:82\u001b[0m, in \u001b[0;36mPortfolioPipeline.find_pairs_from_clusters\u001b[1;34m(self, df, clusters)\u001b[0m\n\u001b[0;32m     80\u001b[0m \t\u001b[39mfor\u001b[39;00m i \u001b[39min\u001b[39;00m \u001b[39mrange\u001b[39m(n):\n\u001b[0;32m     81\u001b[0m \t\t\u001b[39mfor\u001b[39;00m j \u001b[39min\u001b[39;00m \u001b[39mrange\u001b[39m(i\u001b[39m+\u001b[39m\u001b[39m1\u001b[39m, n):\n\u001b[1;32m---> 82\u001b[0m \t\t\t\u001b[39mself\u001b[39;49m\u001b[39m.\u001b[39;49mtry_validate_pair(failed_count, cluster_data, df, cluster[i], cluster[j])\n\u001b[0;32m     84\u001b[0m \tcluster_pairs\u001b[39m.\u001b[39mappend(pd\u001b[39m.\u001b[39mDataFrame(cluster_data))\n\u001b[0;32m     86\u001b[0m display(\u001b[39mf\u001b[39m\u001b[39m'\u001b[39m\u001b[39mTested \u001b[39m\u001b[39m{\u001b[39;00mtotal_num_of_pairs\u001b[39m}\u001b[39;00m\u001b[39m pairs in total\u001b[39m\u001b[39m'\u001b[39m)\n",
      "File \u001b[1;32mc:\\Users\\justi\\Desktop\\Coding\\trading\\alpaca\\portfoliopipeline.py:43\u001b[0m, in \u001b[0;36mPortfolioPipeline.try_validate_pair\u001b[1;34m(self, failed_count, df_data, df, stock1, stock2)\u001b[0m\n\u001b[0;32m     42\u001b[0m \u001b[39mdef\u001b[39;00m \u001b[39mtry_validate_pair\u001b[39m(\u001b[39mself\u001b[39m, failed_count, df_data, df, stock1, stock2):\n\u001b[1;32m---> 43\u001b[0m \tfailed_idx, constant, beta, alpha, residual, p_value, H, half_life, avg_cross_period \u001b[39m=\u001b[39m \u001b[39mself\u001b[39;49m\u001b[39m.\u001b[39;49mstationarity_check(df[stock1], df[stock2])\n\u001b[0;32m     44\u001b[0m \t\u001b[39mif\u001b[39;00m failed_idx \u001b[39m!=\u001b[39m \u001b[39m-\u001b[39m\u001b[39m1\u001b[39m:\n\u001b[0;32m     45\u001b[0m \t\tfailed_count[failed_idx] \u001b[39m+\u001b[39m\u001b[39m=\u001b[39m \u001b[39m1\u001b[39m\n",
      "File \u001b[1;32mc:\\Users\\justi\\Desktop\\Coding\\trading\\alpaca\\portfoliopipeline.py:14\u001b[0m, in \u001b[0;36mPortfolioPipeline.stationarity_check\u001b[1;34m(self, price_series1, price_series2)\u001b[0m\n\u001b[0;32m     13\u001b[0m \u001b[39mdef\u001b[39;00m \u001b[39mstationarity_check\u001b[39m(\u001b[39mself\u001b[39m, price_series1, price_series2):\n\u001b[1;32m---> 14\u001b[0m \tconstant, beta, alpha, residual, adfstat, p_value \u001b[39m=\u001b[39m \u001b[39mself\u001b[39;49m\u001b[39m.\u001b[39;49mengle_granger_two_step_cointegration_test(price_series1, price_series2)\n\u001b[0;32m     16\u001b[0m \tH, half_life, avg_cross_period \u001b[39m=\u001b[39m \u001b[39mNone\u001b[39;00m, \u001b[39mNone\u001b[39;00m, \u001b[39mNone\u001b[39;00m\n\u001b[0;32m     18\u001b[0m \t\u001b[39mif\u001b[39;00m \u001b[39mnot\u001b[39;00m(p_value \u001b[39m<\u001b[39m\u001b[39m=\u001b[39m \u001b[39mself\u001b[39m\u001b[39m.\u001b[39mp_value_threshold):\n",
      "\u001b[1;31mAttributeError\u001b[0m: 'PortfolioPipeline' object has no attribute 'engle_granger_two_step_cointegration_test'"
     ]
    }
   ],
   "source": [
    "# get pairs for validation test\n",
    "validation_pairs = portfolio_pipe.find_pairs_from_clusters(training_df, clusters)\n",
    "# if validation_pairs is None or validation_pairs.shape[0] == 0:\n",
    "# \tdisplay(f'No validated pairs')\n",
    "# \treturn\n",
    "\n",
    "initial_capital = 5000\n",
    "\n",
    "# validation backtest\n",
    "validation_backtest_results = backtest_pipe.validation_backtest(training_df, validation_df, validation_pairs, initial_capital=initial_capital)\n",
    "\n",
    "for pair_key in validation_backtest_results:\n",
    "\tbacktest_pipe.plot_pair_backtest(validation_backtest_results, pair_key)\n",
    "\n",
    "\n",
    "\n",
    "# filter results\n",
    "filtered_validation_backtest_results = {}\n",
    "\n",
    "for pair_key in validation_backtest_results:\n",
    "\tmargin = validation_backtest_results[pair_key]['margin']\n",
    "\tif (margin[-1]-margin[0])/margin[0] >= 0.1:\n",
    "\t\tfiltered_validation_backtest_results[pair_key] = validation_backtest_results[pair_key]\n",
    "\n",
    "num_successful = len(filtered_validation_backtest_results)\n",
    "num_total = len(validation_backtest_results)\n",
    "display(f'{num_successful}/{num_total} = {num_successful/num_total*100:.2f}% have +PnL')\n",
    "display(filtered_validation_backtest_results)"
   ]
  },
  {
   "cell_type": "code",
   "execution_count": null,
   "id": "269cc673",
   "metadata": {},
   "outputs": [],
   "source": [
    "\n",
    "# # if len(filtered_validation_pairs) == 0:\n",
    "# # \tdisplay(f'No positive validated pairs')\n",
    "# # \treturn\n",
    "\n",
    "\n",
    "# # get final test pairs\n",
    "# test_pairs = portfolio_pipe.revalidate_pairs(filtered_validation_backtest_results)\n",
    "\n",
    "\n",
    "\n",
    "# # test backtest\n",
    "# test_backtest_results = backtest_pipe.test_backtest(training_and_validation_df, testing_df, test_pairs, filtered_validation_backtest_results, initial_capital=initial_capital)\n",
    "# for pair_key in test_backtest_results:\n",
    "# \tbacktest_pipe.plot_pair_backtest(test_backtest_results, pair_key)\n",
    "\n",
    "\n",
    "# display(test_pairs)\n",
    "# display(f'Total pairs validated / total pairs found = {num_successful}/{num_total} = {num_successful/num_total*100:.2f}% pairs ')"
   ]
  }
 ],
 "metadata": {
  "kernelspec": {
   "display_name": "trading",
   "language": "python",
   "name": "python3"
  },
  "language_info": {
   "codemirror_mode": {
    "name": "ipython",
    "version": 3
   },
   "file_extension": ".py",
   "mimetype": "text/x-python",
   "name": "python",
   "nbconvert_exporter": "python",
   "pygments_lexer": "ipython3",
   "version": "3.11.4"
  }
 },
 "nbformat": 4,
 "nbformat_minor": 5
}
