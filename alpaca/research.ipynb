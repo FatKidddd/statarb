{
 "cells": [
  {
   "cell_type": "code",
   "execution_count": null,
   "id": "4163518f",
   "metadata": {},
   "outputs": [],
   "source": [
    "import numpy as np\n",
    "import pandas as pd\n",
    "from datapipeline import DataPipeline\n",
    "from clusterpipeline import ClusterPipeline\n",
    "from portfoliopipeline import PortfolioPipeline\n",
    "from backtestpipeline import BacktestPipeline\n",
    "\n",
    "%autoreload 2\n",
    "\n",
    "# current idea now is cluster --> use johansen test to test for cointegration --> minimise portmanteau stat --> parametric threshold\n",
    "# or cluster --> engle granger test --> pairs with kalman filter --> parametric threshold\n",
    "\n",
    "# maybe use daily data to train\n",
    "\n",
    "data_pipe = DataPipeline([], (2016, 1, 1), (2020, 1, 1), (2022, 1, 1), (2022, 12, 31))\n",
    "cluster_pipe = ClusterPipeline() \n",
    "portfolio_pipe = PortfolioPipeline()\n",
    "backtest_pipe = BacktestPipeline()\n"
   ]
  },
  {
   "cell_type": "code",
   "execution_count": null,
   "id": "93e4cf34",
   "metadata": {},
   "outputs": [],
   "source": [
    "training_df, validation_df, testing_df, training_and_validation_df = data_pipe.preprocess_and_split_data()"
   ]
  },
  {
   "cell_type": "code",
   "execution_count": null,
   "id": "88c553b4",
   "metadata": {},
   "outputs": [],
   "source": [
    "display('##### Finding clusters now #####')\n",
    "clusters = [training_df.columns] if training_df.shape[1] < 15 else cluster_pipe.find_clusters(training_df)"
   ]
  },
  {
   "cell_type": "code",
   "execution_count": null,
   "id": "b3eb308e",
   "metadata": {},
   "outputs": [],
   "source": [
    "# get pairs for validation test\n",
    "validation_pairs = portfolio_pipe.find_pairs_from_clusters(training_df, clusters)\n",
    "# if validation_pairs is None or validation_pairs.shape[0] == 0:\n",
    "# \tdisplay(f'No validated pairs')\n",
    "# \treturn\n",
    "\n",
    "initial_capital = 5000\n",
    "\n",
    "# validation backtest\n",
    "validation_backtest_results = backtest_pipe.validation_backtest(training_df, validation_df, validation_pairs, initial_capital=initial_capital)\n",
    "\n",
    "for pair_key in validation_backtest_results:\n",
    "\tbacktest_pipe.plot_pair_backtest(validation_backtest_results, pair_key)\n",
    "\n",
    "\n",
    "\n",
    "# filter results\n",
    "filtered_validation_backtest_results = {}\n",
    "\n",
    "for pair_key in validation_backtest_results:\n",
    "\tmargin = validation_backtest_results[pair_key]['margin']\n",
    "\tif (margin[-1]-margin[0])/margin[0] >= 0.1:\n",
    "\t\tfiltered_validation_backtest_results[pair_key] = validation_backtest_results[pair_key]\n",
    "\n",
    "num_successful = len(filtered_validation_backtest_results)\n",
    "num_total = len(validation_backtest_results)\n",
    "display(f'{num_successful}/{num_total} = {num_successful/num_total*100:.2f}% have +PnL')\n",
    "display(filtered_validation_backtest_results)"
   ]
  },
  {
   "cell_type": "code",
   "execution_count": null,
   "id": "269cc673",
   "metadata": {},
   "outputs": [],
   "source": [
    "\n",
    "# # if len(filtered_validation_pairs) == 0:\n",
    "# # \tdisplay(f'No positive validated pairs')\n",
    "# # \treturn\n",
    "\n",
    "\n",
    "# # get final test pairs\n",
    "# test_pairs = portfolio_pipe.revalidate_pairs(filtered_validation_backtest_results)\n",
    "\n",
    "\n",
    "\n",
    "# # test backtest\n",
    "# test_backtest_results = backtest_pipe.test_backtest(training_and_validation_df, testing_df, test_pairs, filtered_validation_backtest_results, initial_capital=initial_capital)\n",
    "# for pair_key in test_backtest_results:\n",
    "# \tbacktest_pipe.plot_pair_backtest(test_backtest_results, pair_key)\n",
    "\n",
    "\n",
    "# display(test_pairs)\n",
    "# display(f'Total pairs validated / total pairs found = {num_successful}/{num_total} = {num_successful/num_total*100:.2f}% pairs ')"
   ]
  }
 ],
 "metadata": {
  "kernelspec": {
   "display_name": "trading",
   "language": "python",
   "name": "python3"
  },
  "language_info": {
   "codemirror_mode": {
    "name": "ipython",
    "version": 3
   },
   "file_extension": ".py",
   "mimetype": "text/x-python",
   "name": "python",
   "nbconvert_exporter": "python",
   "pygments_lexer": "ipython3",
   "version": "3.11.4"
  }
 },
 "nbformat": 4,
 "nbformat_minor": 5
}
